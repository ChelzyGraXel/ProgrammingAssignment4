{
 "cells": [
  {
   "cell_type": "markdown",
   "id": "0efdc33c-fe49-43cb-95f4-4d48fe66d243",
   "metadata": {},
   "source": [
    "# Experiment 4: Data Wrangling and Data Visualization\n",
    "#### Name: Chelzy Gracel Tiñana\n",
    "#### Section: 2ECE-D"
   ]
  },
  {
   "cell_type": "markdown",
   "id": "8390b09d-169e-4f49-99e0-5ba60758966d",
   "metadata": {},
   "source": [
    "## ECE BOARD EXAM PROBLEM"
   ]
  },
  {
   "cell_type": "code",
   "execution_count": 160,
   "id": "7a045511-e8af-4eb0-83f8-5c2cdc4fe2e6",
   "metadata": {},
   "outputs": [],
   "source": [
    "# Import the Pandas Library\n",
    "import pandas as pd\n",
    "\n",
    "# Read csv file\n",
    "ece = pd.read_csv('board2.csv')"
   ]
  },
  {
   "cell_type": "code",
   "execution_count": 161,
   "id": "a2b8bca1-2dab-496b-8ed3-3a6148d831ce",
   "metadata": {},
   "outputs": [
    {
     "data": {
      "text/html": [
       "<div>\n",
       "<style scoped>\n",
       "    .dataframe tbody tr th:only-of-type {\n",
       "        vertical-align: middle;\n",
       "    }\n",
       "\n",
       "    .dataframe tbody tr th {\n",
       "        vertical-align: top;\n",
       "    }\n",
       "\n",
       "    .dataframe thead th {\n",
       "        text-align: right;\n",
       "    }\n",
       "</style>\n",
       "<table border=\"1\" class=\"dataframe\">\n",
       "  <thead>\n",
       "    <tr style=\"text-align: right;\">\n",
       "      <th></th>\n",
       "      <th>Name</th>\n",
       "      <th>GEAS</th>\n",
       "      <th>Electronics</th>\n",
       "    </tr>\n",
       "  </thead>\n",
       "  <tbody>\n",
       "    <tr>\n",
       "      <th>0</th>\n",
       "      <td>S1</td>\n",
       "      <td>75</td>\n",
       "      <td>89</td>\n",
       "    </tr>\n",
       "    <tr>\n",
       "      <th>7</th>\n",
       "      <td>S8</td>\n",
       "      <td>64</td>\n",
       "      <td>81</td>\n",
       "    </tr>\n",
       "    <tr>\n",
       "      <th>29</th>\n",
       "      <td>S30</td>\n",
       "      <td>57</td>\n",
       "      <td>81</td>\n",
       "    </tr>\n",
       "  </tbody>\n",
       "</table>\n",
       "</div>"
      ],
      "text/plain": [
       "   Name  GEAS  Electronics\n",
       "0    S1    75           89\n",
       "7    S8    64           81\n",
       "29  S30    57           81"
      ]
     },
     "execution_count": 161,
     "metadata": {},
     "output_type": "execute_result"
    }
   ],
   "source": [
    "# Constant Track is Instrumentation and Hometown is Luzon\n",
    "Instru = ece.loc[(ece['Track']=='Instrumentation')\n",
    "                &(ece['Hometown']=='Luzon')\n",
    "                &(ece['Electronics']>70),['Name','GEAS','Electronics']]\n",
    "Instru"
   ]
  },
  {
   "cell_type": "code",
   "execution_count": 162,
   "id": "4b95436e-14c6-47a8-8993-c5741018045d",
   "metadata": {},
   "outputs": [],
   "source": [
    "# Average Scores\n",
    "ece['Average'] = ece[['Math', 'Electronics', 'GEAS', 'Communication']].mean(axis=1)"
   ]
  },
  {
   "cell_type": "code",
   "execution_count": 163,
   "id": "f84f3eb6-c850-4328-b56e-6556113f7dad",
   "metadata": {},
   "outputs": [
    {
     "data": {
      "text/html": [
       "<div>\n",
       "<style scoped>\n",
       "    .dataframe tbody tr th:only-of-type {\n",
       "        vertical-align: middle;\n",
       "    }\n",
       "\n",
       "    .dataframe tbody tr th {\n",
       "        vertical-align: top;\n",
       "    }\n",
       "\n",
       "    .dataframe thead th {\n",
       "        text-align: right;\n",
       "    }\n",
       "</style>\n",
       "<table border=\"1\" class=\"dataframe\">\n",
       "  <thead>\n",
       "    <tr style=\"text-align: right;\">\n",
       "      <th></th>\n",
       "      <th>Name</th>\n",
       "      <th>Track</th>\n",
       "      <th>Electronics</th>\n",
       "      <th>Average</th>\n",
       "    </tr>\n",
       "  </thead>\n",
       "  <tbody>\n",
       "    <tr>\n",
       "      <th>0</th>\n",
       "      <td>S2</td>\n",
       "      <td>Communication</td>\n",
       "      <td>75</td>\n",
       "      <td>67.25</td>\n",
       "    </tr>\n",
       "    <tr>\n",
       "      <th>1</th>\n",
       "      <td>S3</td>\n",
       "      <td>Instrumentation</td>\n",
       "      <td>74</td>\n",
       "      <td>72.75</td>\n",
       "    </tr>\n",
       "    <tr>\n",
       "      <th>2</th>\n",
       "      <td>S15</td>\n",
       "      <td>Microelectronics</td>\n",
       "      <td>41</td>\n",
       "      <td>59.00</td>\n",
       "    </tr>\n",
       "    <tr>\n",
       "      <th>3</th>\n",
       "      <td>S17</td>\n",
       "      <td>Microelectronics</td>\n",
       "      <td>79</td>\n",
       "      <td>70.50</td>\n",
       "    </tr>\n",
       "    <tr>\n",
       "      <th>4</th>\n",
       "      <td>S20</td>\n",
       "      <td>Communication</td>\n",
       "      <td>60</td>\n",
       "      <td>66.50</td>\n",
       "    </tr>\n",
       "  </tbody>\n",
       "</table>\n",
       "</div>"
      ],
      "text/plain": [
       "  Name             Track  Electronics  Average\n",
       "0   S2     Communication           75    67.25\n",
       "1   S3   Instrumentation           74    72.75\n",
       "2  S15  Microelectronics           41    59.00\n",
       "3  S17  Microelectronics           79    70.50\n",
       "4  S20     Communication           60    66.50"
      ]
     },
     "execution_count": 163,
     "metadata": {},
     "output_type": "execute_result"
    }
   ],
   "source": [
    "# Constant Hometown is Mindanao and Gender is Female\n",
    "Mindy = ece.loc[(ece['Hometown']=='Mindanao')\n",
    "                &(ece['Gender']=='Female')\n",
    "                &(ece['Average']>=55),['Name','Track','Electronics','Average']].reset_index(drop=1)\n",
    "Mindy"
   ]
  },
  {
   "cell_type": "markdown",
   "id": "e4f1896e-311b-49a0-a96b-71a89c1d86cc",
   "metadata": {},
   "source": [
    "## VISUALIZATION"
   ]
  },
  {
   "cell_type": "markdown",
   "id": "56987d87-bcb8-4de7-b5f3-2c43c74cc541",
   "metadata": {},
   "source": [
    " #### Hometown"
   ]
  },
  {
   "cell_type": "code",
   "execution_count": 166,
   "id": "275f97c4-b956-4769-9cb3-c17ba1984a17",
   "metadata": {},
   "outputs": [
    {
     "data": {
      "text/plain": [
       "<BarContainer object of 30 artists>"
      ]
     },
     "execution_count": 166,
     "metadata": {},
     "output_type": "execute_result"
    },
    {
     "data": {
      "image/png": "[encoded data removed]",
      "text/plain": [
       "<Figure size 400x200 with 1 Axes>"
      ]
     },
     "metadata": {},
     "output_type": "display_data"
    }
   ],
   "source": [
    "import matplotlib.pyplot as plt\n",
    "\n",
    "plt.figure(figsize=(4, 2))\n",
    "plt.bar(ece['Hometown'], ece['Average'])"
   ]
  },
  {
   "cell_type": "markdown",
   "id": "2ef76603-5e3b-4231-8af0-0de9aa247f42",
   "metadata": {},
   "source": [
    "#### Track in College"
   ]
  },
  {
   "cell_type": "code",
   "execution_count": 168,
   "id": "79bc0fc7-d26a-4de1-87c4-2a6a48ba3c9a",
   "metadata": {},
   "outputs": [
    {
     "data": {
      "text/plain": [
       "<BarContainer object of 30 artists>"
      ]
     },
     "execution_count": 168,
     "metadata": {},
     "output_type": "execute_result"
    },
    {
     "data": {
      "image/png": "[encoded data removed]",
      "text/plain": [
       "<Figure size 800x200 with 1 Axes>"
      ]
     },
     "metadata": {},
     "output_type": "display_data"
    }
   ],
   "source": [
    "import matplotlib.pyplot as plt\n",
    "\n",
    "plt.figure(figsize=(8, 2))\n",
    "plt.bar(ece['Track'], ece['Average'])"
   ]
  },
  {
   "cell_type": "markdown",
   "id": "fec38980-a098-457b-9e93-81cfbf95e10c",
   "metadata": {},
   "source": [
    "#### Gender"
   ]
  },
  {
   "cell_type": "code",
   "execution_count": 170,
   "id": "514cadf1-f68a-4807-99f4-c19fae6a0f8c",
   "metadata": {},
   "outputs": [
    {
     "data": {
      "text/plain": [
       "<BarContainer object of 30 artists>"
      ]
     },
     "execution_count": 170,
     "metadata": {},
     "output_type": "execute_result"
    },
    {
     "data": {
      "image/png": "[encoded data removed]",
      "text/plain": [
       "<Figure size 600x400 with 1 Axes>"
      ]
     },
     "metadata": {},
     "output_type": "display_data"
    }
   ],
   "source": [
    "import matplotlib.pyplot as plt\n",
    "\n",
    "plt.figure(figsize=(6, 4))\n",
    "plt.bar(ece['Gender'], ece['Average'])"
   ]
  }
 ],
 "metadata": {
  "kernelspec": {
   "display_name": "Python 3 (ipykernel)",
   "language": "python",
   "name": "python3"
  },
  "language_info": {
   "codemirror_mode": {
    "name": "ipython",
    "version": 3
   },
   "file_extension": ".py",
   "mimetype": "text/x-python",
   "name": "python",
   "nbconvert_exporter": "python",
   "pygments_lexer": "ipython3",
   "version": "3.12.4"
  }
 },
 "nbformat": 4,
 "nbformat_minor": 5
}
